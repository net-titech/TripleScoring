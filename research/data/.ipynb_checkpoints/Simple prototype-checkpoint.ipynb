{
 "cells": [
  {
   "cell_type": "markdown",
   "metadata": {},
   "source": [
    "### Training a prototype neural network for scoring person and job."
   ]
  },
  {
   "cell_type": "code",
   "execution_count": 1,
   "metadata": {
    "collapsed": true
   },
   "outputs": [],
   "source": [
    "import tensorflow as tf\n",
    "import numpy as np\n",
    "import random as r\n",
    "import json\n",
    "import pickle as p\n",
    "from matplotlib import pyplot as plt\n",
    "from urllib import parse as urlparse\n",
    "from urllib import request as urlreq\n",
    "from os import path\n",
    "\n",
    "%matplotlib inline"
   ]
  },
  {
   "cell_type": "code",
   "execution_count": 2,
   "metadata": {
    "collapsed": true
   },
   "outputs": [],
   "source": [
    "# Create person-ids dictionary pickle\n",
    "names_ids_dict = {}\n",
    "if not path.exists('people_ids.pickle'):\n",
    "    with open('persons','r') as names_ids_file:\n",
    "        for names_ids in names_ids_file.readlines():\n",
    "            name, ids = names_ids.strip().split('\\t')\n",
    "            names_ids_dict[name] = '/' + ids.replace('.', '/')\n",
    "    with open('people_ids.pickle', 'wb') as pfile:\n",
    "        p.dump(names_ids_dict, pfile)\n",
    "else:\n",
    "    with open('people_ids.pickle', 'rb') as names_ids_pfile:\n",
    "        names_ids_dict = p.load(names_ids_pfile)"
   ]
  },
  {
   "cell_type": "code",
   "execution_count": 7,
   "metadata": {
    "collapsed": false
   },
   "outputs": [],
   "source": [
    "api_key = open('../.knowledge_graph_api_key').read()\n",
    "params = {\n",
    "    'indent': True,\n",
    "    'key': api_key,\n",
    "}\n",
    "service_url = 'https://kgsearch.googleapis.com/v1/entities:search?'\n",
    "def get_score(ids):\n",
    "    params['ids'] = ids\n",
    "    url = service_url + urlparse.urlencode(params)\n",
    "    with urlreq.urlopen(url) as response:\n",
    "        data = json.loads(response.read().decode('utf8'))\n",
    "        info = data['itemListElement'][0]\n",
    "    return info['resultScore']"
   ]
  },
  {
   "cell_type": "code",
   "execution_count": 4,
   "metadata": {
    "collapsed": false
   },
   "outputs": [
    {
     "data": {
      "text/plain": [
       "'/m/049r7v'"
      ]
     },
     "execution_count": 4,
     "metadata": {},
     "output_type": "execute_result"
    }
   ],
   "source": [
    "names_ids_dict['Alfred Einstein']"
   ]
  },
  {
   "cell_type": "code",
   "execution_count": 5,
   "metadata": {
    "collapsed": false
   },
   "outputs": [
    {
     "data": {
      "text/plain": [
       "'/m/0jcx'"
      ]
     },
     "execution_count": 5,
     "metadata": {},
     "output_type": "execute_result"
    }
   ],
   "source": [
    "names_ids_dict['Albert Einstein']"
   ]
  },
  {
   "cell_type": "code",
   "execution_count": 8,
   "metadata": {
    "collapsed": false
   },
   "outputs": [],
   "source": [
    "names_scores = {}\n",
    "with open('profession.train') as labeled_data:\n",
    "    for sample in labeled_data.readlines():\n",
    "        name, job, label = sample.strip().split('\\t')\n",
    "        ids = names_ids_dict[name]\n",
    "        score = get_score(ids)\n",
    "        names_scores[name] = score"
   ]
  },
  {
   "cell_type": "code",
   "execution_count": 9,
   "metadata": {
    "collapsed": false
   },
   "outputs": [
    {
     "data": {
      "text/plain": [
       "'/m/02mjmr'"
      ]
     },
     "execution_count": 9,
     "metadata": {},
     "output_type": "execute_result"
    }
   ],
   "source": [
    "names_ids_dict['Barack Obama']"
   ]
  },
  {
   "cell_type": "code",
   "execution_count": 10,
   "metadata": {
    "collapsed": false
   },
   "outputs": [
    {
     "data": {
      "text/plain": [
       "32.389492"
      ]
     },
     "execution_count": 10,
     "metadata": {},
     "output_type": "execute_result"
    }
   ],
   "source": [
    "names_scores['Barack Obama']"
   ]
  },
  {
   "cell_type": "code",
   "execution_count": 11,
   "metadata": {
    "collapsed": false
   },
   "outputs": [
    {
     "data": {
      "text/plain": [
       "27.779625"
      ]
     },
     "execution_count": 11,
     "metadata": {},
     "output_type": "execute_result"
    }
   ],
   "source": [
    "names_scores['Albert Einstein']"
   ]
  },
  {
   "cell_type": "code",
   "execution_count": 13,
   "metadata": {
    "collapsed": true
   },
   "outputs": [],
   "source": [
    "with open('dict_name_cnt.pickle', 'rb') as pfile:\n",
    "    names_freq = p.load(pfile)"
   ]
  },
  {
   "cell_type": "code",
   "execution_count": 14,
   "metadata": {
    "collapsed": false
   },
   "outputs": [
    {
     "data": {
      "text/plain": [
       "13737"
      ]
     },
     "execution_count": 14,
     "metadata": {},
     "output_type": "execute_result"
    }
   ],
   "source": [
    "names_freq['Albert Einstein']"
   ]
  },
  {
   "cell_type": "code",
   "execution_count": 15,
   "metadata": {
    "collapsed": false
   },
   "outputs": [
    {
     "data": {
      "text/plain": [
       "71605"
      ]
     },
     "execution_count": 15,
     "metadata": {},
     "output_type": "execute_result"
    }
   ],
   "source": [
    "names_freq['Barack Obama']"
   ]
  },
  {
   "cell_type": "code",
   "execution_count": null,
   "metadata": {
    "collapsed": true
   },
   "outputs": [],
   "source": []
  }
 ],
 "metadata": {
  "anaconda-cloud": {},
  "kernelspec": {
   "display_name": "Python [Root]",
   "language": "python",
   "name": "Python [Root]"
  },
  "language_info": {
   "codemirror_mode": {
    "name": "ipython",
    "version": 3
   },
   "file_extension": ".py",
   "mimetype": "text/x-python",
   "name": "python",
   "nbconvert_exporter": "python",
   "pygments_lexer": "ipython3",
   "version": "3.5.2"
  }
 },
 "nbformat": 4,
 "nbformat_minor": 0
}
